{
 "cells": [
  {
   "cell_type": "markdown",
   "metadata": {
    "_uuid": "dc8909ebfe3057caa66807d30310f542bee52ebd"
   },
   "source": [
    "Hi all !<br> This is my THIRD Kernel but for me the most experience gaining one....\n",
    "I hope, it will be able to make the **Beginners** of **DATA SCIENCE** comfortable with small dataset and they can learn to apply different **Machine Learning** algorithms on **Regression** problem."
   ]
  },
  {
   "cell_type": "markdown",
   "metadata": {
    "_uuid": "8081b5724f63c41ef4349639b5c0c0ac301ac2bf"
   },
   "source": [
    "**<font size=\"4\">Importing Libraries</font>**"
   ]
  },
  {
   "cell_type": "code",
   "execution_count": 1,
   "metadata": {
    "_cell_guid": "b1076dfc-b9ad-4769-8c92-a6c4dae69d19",
    "_uuid": "8f2839f25d086af736a60e9eeb907d3b93b6e0e5"
   },
   "outputs": [],
   "source": [
    "import numpy as np\n",
    "# Scientific computing library\n",
    "import pandas as pd \n",
    "# DataFrame dealing Library\n",
    "import seaborn as sns\n",
    "# Graphical/Plotting Library\n",
    "import matplotlib.pyplot as plt\n",
    "# Graphical/Plotting Library\n",
    "%matplotlib inline"
   ]
  },
  {
   "cell_type": "markdown",
   "metadata": {
    "_uuid": "9882b48fd239e0a85e937eda0f6ddb2ee0ffbac1"
   },
   "source": [
    "**<font size=\"4\">Reading Dataset</font>**"
   ]
  },
  {
   "cell_type": "code",
   "execution_count": 2,
   "metadata": {
    "_uuid": "1cfacc9b38f342edefe3abef77caac6e9149f9a9"
   },
   "outputs": [
    {
     "data": {
      "text/html": [
       "<div>\n",
       "<style scoped>\n",
       "    .dataframe tbody tr th:only-of-type {\n",
       "        vertical-align: middle;\n",
       "    }\n",
       "\n",
       "    .dataframe tbody tr th {\n",
       "        vertical-align: top;\n",
       "    }\n",
       "\n",
       "    .dataframe thead th {\n",
       "        text-align: right;\n",
       "    }\n",
       "</style>\n",
       "<table border=\"1\" class=\"dataframe\">\n",
       "  <thead>\n",
       "    <tr style=\"text-align: right;\">\n",
       "      <th></th>\n",
       "      <th>Serial No.</th>\n",
       "      <th>GRE Score</th>\n",
       "      <th>TOEFL Score</th>\n",
       "      <th>University Rating</th>\n",
       "      <th>SOP</th>\n",
       "      <th>LOR</th>\n",
       "      <th>CGPA</th>\n",
       "      <th>Research</th>\n",
       "      <th>Chance of Admit</th>\n",
       "    </tr>\n",
       "  </thead>\n",
       "  <tbody>\n",
       "    <tr>\n",
       "      <th>0</th>\n",
       "      <td>1</td>\n",
       "      <td>337</td>\n",
       "      <td>118</td>\n",
       "      <td>4</td>\n",
       "      <td>4.5</td>\n",
       "      <td>4.5</td>\n",
       "      <td>9.65</td>\n",
       "      <td>1</td>\n",
       "      <td>0.92</td>\n",
       "    </tr>\n",
       "    <tr>\n",
       "      <th>1</th>\n",
       "      <td>2</td>\n",
       "      <td>324</td>\n",
       "      <td>107</td>\n",
       "      <td>4</td>\n",
       "      <td>4.0</td>\n",
       "      <td>4.5</td>\n",
       "      <td>8.87</td>\n",
       "      <td>1</td>\n",
       "      <td>0.76</td>\n",
       "    </tr>\n",
       "    <tr>\n",
       "      <th>2</th>\n",
       "      <td>3</td>\n",
       "      <td>316</td>\n",
       "      <td>104</td>\n",
       "      <td>3</td>\n",
       "      <td>3.0</td>\n",
       "      <td>3.5</td>\n",
       "      <td>8.00</td>\n",
       "      <td>1</td>\n",
       "      <td>0.72</td>\n",
       "    </tr>\n",
       "    <tr>\n",
       "      <th>3</th>\n",
       "      <td>4</td>\n",
       "      <td>322</td>\n",
       "      <td>110</td>\n",
       "      <td>3</td>\n",
       "      <td>3.5</td>\n",
       "      <td>2.5</td>\n",
       "      <td>8.67</td>\n",
       "      <td>1</td>\n",
       "      <td>0.80</td>\n",
       "    </tr>\n",
       "    <tr>\n",
       "      <th>4</th>\n",
       "      <td>5</td>\n",
       "      <td>314</td>\n",
       "      <td>103</td>\n",
       "      <td>2</td>\n",
       "      <td>2.0</td>\n",
       "      <td>3.0</td>\n",
       "      <td>8.21</td>\n",
       "      <td>0</td>\n",
       "      <td>0.65</td>\n",
       "    </tr>\n",
       "  </tbody>\n",
       "</table>\n",
       "</div>"
      ],
      "text/plain": [
       "   Serial No.  GRE Score        ...         Research  Chance of Admit \n",
       "0           1        337        ...                1              0.92\n",
       "1           2        324        ...                1              0.76\n",
       "2           3        316        ...                1              0.72\n",
       "3           4        322        ...                1              0.80\n",
       "4           5        314        ...                0              0.65\n",
       "\n",
       "[5 rows x 9 columns]"
      ]
     },
     "execution_count": 2,
     "metadata": {},
     "output_type": "execute_result"
    }
   ],
   "source": [
    "data=pd.read_csv(\"../input/Admission_Predict_Ver1.1.csv\")\n",
    "data.head()\n",
    "# First 5 rows of the dataset"
   ]
  },
  {
   "cell_type": "markdown",
   "metadata": {
    "_uuid": "3897b72b06fc371137abc4b8cee31c0057d22ff6"
   },
   "source": [
    "<font size=\"4\">From the above table, we can derive one easy thing......Think what will be that ????<br></font>\n",
    "**<font size=\"4\">Answer</font>**<font size=\"4\"> - No need of 1st Column, i.e, Serial No.</font>"
   ]
  },
  {
   "cell_type": "markdown",
   "metadata": {
    "_uuid": "7791f7498f86ae3ad3a7bc4dff4b67cc8fa8fde8"
   },
   "source": [
    "**<font size=\"4\">Dropping Column/s</font>**"
   ]
  },
  {
   "cell_type": "code",
   "execution_count": 3,
   "metadata": {
    "_cell_guid": "79c7e3d0-c299-4dcb-8224-4455121ee9b0",
    "_uuid": "d629ff2d2480ee46fbb7e2d37f6b5fab8052498a"
   },
   "outputs": [
    {
     "data": {
      "text/html": [
       "<div>\n",
       "<style scoped>\n",
       "    .dataframe tbody tr th:only-of-type {\n",
       "        vertical-align: middle;\n",
       "    }\n",
       "\n",
       "    .dataframe tbody tr th {\n",
       "        vertical-align: top;\n",
       "    }\n",
       "\n",
       "    .dataframe thead th {\n",
       "        text-align: right;\n",
       "    }\n",
       "</style>\n",
       "<table border=\"1\" class=\"dataframe\">\n",
       "  <thead>\n",
       "    <tr style=\"text-align: right;\">\n",
       "      <th></th>\n",
       "      <th>GRE Score</th>\n",
       "      <th>TOEFL Score</th>\n",
       "      <th>University Rating</th>\n",
       "      <th>SOP</th>\n",
       "      <th>LOR</th>\n",
       "      <th>CGPA</th>\n",
       "      <th>Research</th>\n",
       "      <th>Chance of Admit</th>\n",
       "    </tr>\n",
       "  </thead>\n",
       "  <tbody>\n",
       "    <tr>\n",
       "      <th>0</th>\n",
       "      <td>337</td>\n",
       "      <td>118</td>\n",
       "      <td>4</td>\n",
       "      <td>4.5</td>\n",
       "      <td>4.5</td>\n",
       "      <td>9.65</td>\n",
       "      <td>1</td>\n",
       "      <td>0.92</td>\n",
       "    </tr>\n",
       "    <tr>\n",
       "      <th>1</th>\n",
       "      <td>324</td>\n",
       "      <td>107</td>\n",
       "      <td>4</td>\n",
       "      <td>4.0</td>\n",
       "      <td>4.5</td>\n",
       "      <td>8.87</td>\n",
       "      <td>1</td>\n",
       "      <td>0.76</td>\n",
       "    </tr>\n",
       "    <tr>\n",
       "      <th>2</th>\n",
       "      <td>316</td>\n",
       "      <td>104</td>\n",
       "      <td>3</td>\n",
       "      <td>3.0</td>\n",
       "      <td>3.5</td>\n",
       "      <td>8.00</td>\n",
       "      <td>1</td>\n",
       "      <td>0.72</td>\n",
       "    </tr>\n",
       "    <tr>\n",
       "      <th>3</th>\n",
       "      <td>322</td>\n",
       "      <td>110</td>\n",
       "      <td>3</td>\n",
       "      <td>3.5</td>\n",
       "      <td>2.5</td>\n",
       "      <td>8.67</td>\n",
       "      <td>1</td>\n",
       "      <td>0.80</td>\n",
       "    </tr>\n",
       "    <tr>\n",
       "      <th>4</th>\n",
       "      <td>314</td>\n",
       "      <td>103</td>\n",
       "      <td>2</td>\n",
       "      <td>2.0</td>\n",
       "      <td>3.0</td>\n",
       "      <td>8.21</td>\n",
       "      <td>0</td>\n",
       "      <td>0.65</td>\n",
       "    </tr>\n",
       "  </tbody>\n",
       "</table>\n",
       "</div>"
      ],
      "text/plain": [
       "   GRE Score  TOEFL Score        ...         Research  Chance of Admit \n",
       "0        337          118        ...                1              0.92\n",
       "1        324          107        ...                1              0.76\n",
       "2        316          104        ...                1              0.72\n",
       "3        322          110        ...                1              0.80\n",
       "4        314          103        ...                0              0.65\n",
       "\n",
       "[5 rows x 8 columns]"
      ]
     },
     "execution_count": 3,
     "metadata": {},
     "output_type": "execute_result"
    }
   ],
   "source": [
    "new_data=data.drop('Serial No.',axis=1)\n",
    "# above one is 1st way\n",
    "# new_data=data.iloc[:,1:9] <-- Skip 1st column, this is 2nd way\n",
    "new_data.head()"
   ]
  },
  {
   "cell_type": "markdown",
   "metadata": {
    "_uuid": "468e26f8ae7e104f39db1822b49f2dd0cbec781c"
   },
   "source": [
    "**<font size=\"4\">Describe</font>**<font size=\"4\"> is used to see the </font>*<font size=\"4\"> STATISTICS</font>*<font size=\"4\"> of the data </font>"
   ]
  },
  {
   "cell_type": "code",
   "execution_count": 4,
   "metadata": {
    "_kg_hide-input": false,
    "_kg_hide-output": false,
    "_uuid": "c5bf92c812817cb5bf93254657a96cf1306f230e"
   },
   "outputs": [
    {
     "data": {
      "text/html": [
       "<div>\n",
       "<style scoped>\n",
       "    .dataframe tbody tr th:only-of-type {\n",
       "        vertical-align: middle;\n",
       "    }\n",
       "\n",
       "    .dataframe tbody tr th {\n",
       "        vertical-align: top;\n",
       "    }\n",
       "\n",
       "    .dataframe thead th {\n",
       "        text-align: right;\n",
       "    }\n",
       "</style>\n",
       "<table border=\"1\" class=\"dataframe\">\n",
       "  <thead>\n",
       "    <tr style=\"text-align: right;\">\n",
       "      <th></th>\n",
       "      <th>GRE Score</th>\n",
       "      <th>TOEFL Score</th>\n",
       "      <th>University Rating</th>\n",
       "      <th>SOP</th>\n",
       "      <th>LOR</th>\n",
       "      <th>CGPA</th>\n",
       "      <th>Research</th>\n",
       "      <th>Chance of Admit</th>\n",
       "    </tr>\n",
       "  </thead>\n",
       "  <tbody>\n",
       "    <tr>\n",
       "      <th>count</th>\n",
       "      <td>500.000000</td>\n",
       "      <td>500.000000</td>\n",
       "      <td>500.000000</td>\n",
       "      <td>500.000000</td>\n",
       "      <td>500.00000</td>\n",
       "      <td>500.000000</td>\n",
       "      <td>500.000000</td>\n",
       "      <td>500.00000</td>\n",
       "    </tr>\n",
       "    <tr>\n",
       "      <th>mean</th>\n",
       "      <td>316.472000</td>\n",
       "      <td>107.192000</td>\n",
       "      <td>3.114000</td>\n",
       "      <td>3.374000</td>\n",
       "      <td>3.48400</td>\n",
       "      <td>8.576440</td>\n",
       "      <td>0.560000</td>\n",
       "      <td>0.72174</td>\n",
       "    </tr>\n",
       "    <tr>\n",
       "      <th>std</th>\n",
       "      <td>11.295148</td>\n",
       "      <td>6.081868</td>\n",
       "      <td>1.143512</td>\n",
       "      <td>0.991004</td>\n",
       "      <td>0.92545</td>\n",
       "      <td>0.604813</td>\n",
       "      <td>0.496884</td>\n",
       "      <td>0.14114</td>\n",
       "    </tr>\n",
       "    <tr>\n",
       "      <th>min</th>\n",
       "      <td>290.000000</td>\n",
       "      <td>92.000000</td>\n",
       "      <td>1.000000</td>\n",
       "      <td>1.000000</td>\n",
       "      <td>1.00000</td>\n",
       "      <td>6.800000</td>\n",
       "      <td>0.000000</td>\n",
       "      <td>0.34000</td>\n",
       "    </tr>\n",
       "    <tr>\n",
       "      <th>25%</th>\n",
       "      <td>308.000000</td>\n",
       "      <td>103.000000</td>\n",
       "      <td>2.000000</td>\n",
       "      <td>2.500000</td>\n",
       "      <td>3.00000</td>\n",
       "      <td>8.127500</td>\n",
       "      <td>0.000000</td>\n",
       "      <td>0.63000</td>\n",
       "    </tr>\n",
       "    <tr>\n",
       "      <th>50%</th>\n",
       "      <td>317.000000</td>\n",
       "      <td>107.000000</td>\n",
       "      <td>3.000000</td>\n",
       "      <td>3.500000</td>\n",
       "      <td>3.50000</td>\n",
       "      <td>8.560000</td>\n",
       "      <td>1.000000</td>\n",
       "      <td>0.72000</td>\n",
       "    </tr>\n",
       "    <tr>\n",
       "      <th>75%</th>\n",
       "      <td>325.000000</td>\n",
       "      <td>112.000000</td>\n",
       "      <td>4.000000</td>\n",
       "      <td>4.000000</td>\n",
       "      <td>4.00000</td>\n",
       "      <td>9.040000</td>\n",
       "      <td>1.000000</td>\n",
       "      <td>0.82000</td>\n",
       "    </tr>\n",
       "    <tr>\n",
       "      <th>max</th>\n",
       "      <td>340.000000</td>\n",
       "      <td>120.000000</td>\n",
       "      <td>5.000000</td>\n",
       "      <td>5.000000</td>\n",
       "      <td>5.00000</td>\n",
       "      <td>9.920000</td>\n",
       "      <td>1.000000</td>\n",
       "      <td>0.97000</td>\n",
       "    </tr>\n",
       "  </tbody>\n",
       "</table>\n",
       "</div>"
      ],
      "text/plain": [
       "        GRE Score  TOEFL Score        ...           Research  Chance of Admit \n",
       "count  500.000000   500.000000        ...         500.000000         500.00000\n",
       "mean   316.472000   107.192000        ...           0.560000           0.72174\n",
       "std     11.295148     6.081868        ...           0.496884           0.14114\n",
       "min    290.000000    92.000000        ...           0.000000           0.34000\n",
       "25%    308.000000   103.000000        ...           0.000000           0.63000\n",
       "50%    317.000000   107.000000        ...           1.000000           0.72000\n",
       "75%    325.000000   112.000000        ...           1.000000           0.82000\n",
       "max    340.000000   120.000000        ...           1.000000           0.97000\n",
       "\n",
       "[8 rows x 8 columns]"
      ]
     },
     "execution_count": 4,
     "metadata": {},
     "output_type": "execute_result"
    }
   ],
   "source": [
    "new_data.describe()\n",
    "# You can see \"mean\" of everything and that will be shown in countplot afterwards too!"
   ]
  },
  {
   "cell_type": "markdown",
   "metadata": {
    "_uuid": "d998812b65aa8f8f258c63c66d3f2db4ec659ebf"
   },
   "source": [
    "**<font size=\"4\">Missing Values</font>** <font size=\"4\">can interrupt our Analysis, Lets look if there exist NA values or not....</font>"
   ]
  },
  {
   "cell_type": "code",
   "execution_count": 5,
   "metadata": {
    "_uuid": "adb107d6964dbfdb03da48fa7fb9c7b3a0248d35"
   },
   "outputs": [
    {
     "data": {
      "text/plain": [
       "GRE Score            0\n",
       "TOEFL Score          0\n",
       "University Rating    0\n",
       "SOP                  0\n",
       "LOR                  0\n",
       "CGPA                 0\n",
       "Research             0\n",
       "Chance of Admit      0\n",
       "dtype: int64"
      ]
     },
     "execution_count": 5,
     "metadata": {},
     "output_type": "execute_result"
    }
   ],
   "source": [
    "new_data.isnull().sum(axis=0)"
   ]
  },
  {
   "cell_type": "markdown",
   "metadata": {
    "_uuid": "d40244ff4bb269853d26c4dde9d1d62ef382b765"
   },
   "source": [
    "**<font size=\"4\">Correlation</font>** <font size=\"4\">between different features in the Data should be taken into account now....</font>"
   ]
  },
  {
   "cell_type": "code",
   "execution_count": 6,
   "metadata": {
    "_uuid": "419a7a9f418bddadb6b7d1eda1dfc867a91cfa29"
   },
   "outputs": [
    {
     "data": {
      "text/plain": [
       "<matplotlib.axes._subplots.AxesSubplot at 0x7fdb455bdd30>"
      ]
     },
     "execution_count": 6,
     "metadata": {},
     "output_type": "execute_result"
    },
    {
     "data": {
      "image/png": "[encoded data removed]",
      "text/plain": [
       "<Figure size 576x576 with 2 Axes>"
      ]
     },
     "metadata": {},
     "output_type": "display_data"
    }
   ],
   "source": [
    "f,ax=plt.subplots(figsize=(8,8))\n",
    "sns.heatmap(new_data.corr(),annot=True)"
   ]
  },
  {
   "cell_type": "markdown",
   "metadata": {
    "_uuid": "b9ae148f8436eab73c0ca2b4754e9bc0312c6a5e"
   },
   "source": [
    "<font size=\"4\">We can see that </font>**<font size=\"4\">GRE Score,TOEFL Score,CGPA</font>** <font size=\"4\">are highly correlated with </font>**<font size=\"4\">Chance of Admit</font>**<br>\n",
    "<font size=\"4\">But we cannot ignore other variables as they are also having High Correlation(>0.5) too.</font>"
   ]
  },
  {
   "cell_type": "markdown",
   "metadata": {
    "_uuid": "da2ce2d5e15b5b5d2c6c7081627ad7cea8e0171b"
   },
   "source": [
    "**<font size=\"4\">Barplots</font>**"
   ]
  },
  {
   "cell_type": "code",
   "execution_count": 7,
   "metadata": {
    "_uuid": "e1e813898e48d39cde91f1af70e4daa784b2c1b1"
   },
   "outputs": [
    {
     "name": "stderr",
     "output_type": "stream",
     "text": [
      "/opt/conda/lib/python3.6/site-packages/scipy/stats/stats.py:1713: FutureWarning: Using a non-tuple sequence for multidimensional indexing is deprecated; use `arr[tuple(seq)]` instead of `arr[seq]`. In the future this will be interpreted as an array index, `arr[np.array(seq)]`, which will result either in an error or a different result.\n",
      "  return np.add.reduce(sorted[indexer] * weights, axis=axis) / sumval\n"
     ]
    },
    {
     "data": {
      "text/plain": [
       "<matplotlib.axes._subplots.AxesSubplot at 0x7fdb393620f0>"
      ]
     },
     "execution_count": 7,
     "metadata": {},
     "output_type": "execute_result"
    },
    {
     "data": {
      "image/png": "[encoded data removed]",
      "text/plain": [
       "<Figure size 1440x288 with 1 Axes>"
      ]
     },
     "metadata": {},
     "output_type": "display_data"
    },
    {
     "data": {
      "image/png": "[encoded data removed]",
      "text/plain": [
       "<Figure size 1800x360 with 1 Axes>"
      ]
     },
     "metadata": {},
     "output_type": "display_data"
    },
    {
     "data": {
      "image/png": "[encoded data removed]",
      "text/plain": [
       "<Figure size 1440x288 with 1 Axes>"
      ]
     },
     "metadata": {},
     "output_type": "display_data"
    },
    {
     "data": {
      "image/png": "[encoded data removed]",
      "text/plain": [
       "<Figure size 1080x360 with 1 Axes>"
      ]
     },
     "metadata": {},
     "output_type": "display_data"
    }
   ],
   "source": [
    "plt.subplots(figsize=(20,4))\n",
    "sns.barplot(x=\"GRE Score\",y=\"Chance of Admit \",data=data)\n",
    "plt.subplots(figsize=(25,5))\n",
    "sns.barplot(x=\"TOEFL Score\",y=\"Chance of Admit \",data=data)\n",
    "plt.subplots(figsize=(20,4))\n",
    "sns.barplot(x=\"University Rating\",y=\"Chance of Admit \",data=data)\n",
    "plt.subplots(figsize=(15,5))\n",
    "sns.barplot(x=\"SOP\",y=\"Chance of Admit \",data=data)"
   ]
  },
  {
   "cell_type": "markdown",
   "metadata": {
    "_uuid": "f4370f915811235c0fc426f861477463d585728b"
   },
   "source": [
    "<font size=\"4\">Why </font>**<font size=\"4\">PIE</font>** <font size=\"4\">chart for only \"Research\" feature....????<br>\n",
    "    **<font size=\"4\">Answer</font>**<font size=\"4\">- Pie chart, as explained by number of Data Visualizations Experts are confusing for features having more than three categories.</font>"
   ]
  },
  {
   "cell_type": "code",
   "execution_count": 8,
   "metadata": {
    "_uuid": "f925fc167c2d3da09cc74ff257a6461c99d2a80a"
   },
   "outputs": [
    {
     "data": {
      "image/png": "[encoded data removed]",
      "text/plain": [
       "<Figure size 432x288 with 1 Axes>"
      ]
     },
     "metadata": {},
     "output_type": "display_data"
    }
   ],
   "source": [
    "temp_series = new_data.Research.value_counts()\n",
    "# https://pandas.pydata.org/pandas-docs/stable/generated/pandas.Series.value_counts.html\n",
    "labels = (np.array(temp_series.index))\n",
    "# https://docs.scipy.org/doc/numpy-1.15.0/user/basics.creation.html\n",
    "# https://pandas.pydata.org/pandas-docs/stable/generated/pandas.Series.index.html\n",
    "sizes = (np.array((temp_series/temp_series.sum())*100))\n",
    "# calculating %ages\n",
    "colors = ['Pink','SkyBlue']\n",
    "plt.pie(sizes,labels = labels,colors=colors,autopct='%1.1f%%',shadow=True,startangle=90)\n",
    "# https://www.commonlounge.com/discussion/9d6aac569e274dacbf90ed61534c076b#pie-chart\n",
    "# https://matplotlib.org/api/_as_gen/matplotlib.pyplot.pie.html\n",
    "plt.title(\"Research Percentage\")\n",
    "plt.show()"
   ]
  },
  {
   "cell_type": "markdown",
   "metadata": {
    "_uuid": "69b2a23cdc950d34bbb7c00d02307c7b60f65d1a"
   },
   "source": [
    "**<font size=\"4\">Countplots</font>**"
   ]
  },
  {
   "cell_type": "code",
   "execution_count": 9,
   "metadata": {
    "_uuid": "49e3a9c196af821cb4e8c81810688124fb42bc45",
    "scrolled": true
   },
   "outputs": [
    {
     "data": {
      "text/plain": [
       "<matplotlib.axes._subplots.AxesSubplot at 0x7fdb390906a0>"
      ]
     },
     "execution_count": 9,
     "metadata": {},
     "output_type": "execute_result"
    },
    {
     "data": {
      "image/png": "[encoded data removed]",
      "text/plain": [
       "<Figure size 1440x288 with 1 Axes>"
      ]
     },
     "metadata": {},
     "output_type": "display_data"
    },
    {
     "data": {
      "image/png": "[encoded data removed]",
      "text/plain": [
       "<Figure size 1800x360 with 1 Axes>"
      ]
     },
     "metadata": {},
     "output_type": "display_data"
    },
    {
     "data": {
      "image/png": "[encoded data removed]",
      "text/plain": [
       "<Figure size 1440x288 with 1 Axes>"
      ]
     },
     "metadata": {},
     "output_type": "display_data"
    },
    {
     "data": {
      "image/png": "[encoded data removed]",
      "text/plain": [
       "<Figure size 1080x360 with 1 Axes>"
      ]
     },
     "metadata": {},
     "output_type": "display_data"
    }
   ],
   "source": [
    "plt.subplots(figsize=(20,4))\n",
    "sns.countplot(x=\"GRE Score\",data=data)\n",
    "plt.subplots(figsize=(25,5))\n",
    "sns.countplot(x=\"TOEFL Score\",data=data)\n",
    "plt.subplots(figsize=(20,4))\n",
    "sns.countplot(x=\"University Rating\",data=data)\n",
    "plt.subplots(figsize=(15,5))\n",
    "sns.countplot(x=\"SOP\",data=data)"
   ]
  },
  {
   "cell_type": "markdown",
   "metadata": {
    "_uuid": "547d402f7dad9690d9b738f591e7454d4d727bff"
   },
   "source": [
    "**<font size=\"4\">TABLEAU VIZ</font>**"
   ]
  },
  {
   "cell_type": "markdown",
   "metadata": {
    "_uuid": "567440a5447cbdf132cf2c29312b8eb74891b579"
   },
   "source": [
    "<img src=\"https://imgur.com/7e9mpS7.jpg\" width=\"1000px\"/>"
   ]
  },
  {
   "cell_type": "markdown",
   "metadata": {
    "_uuid": "f50b6bdadb3173882f8a3bb375f9026cfb05540c"
   },
   "source": [
    "<font size=\"4\">Now, this </font>*<font size=\"4\">VIZ</font>* <font size=\"4\">easily makes us understand that the problem is of </font>**<font size=\"4\">LINEAR REGRESSION</font>**"
   ]
  },
  {
   "cell_type": "markdown",
   "metadata": {
    "_uuid": "0c90bccfb3fdf8b5a05e74cd2b57a6d6d38ad3f9"
   },
   "source": [
    "**<font size=\"4\">Seperating Independent and Dependent Variables</font>**"
   ]
  },
  {
   "cell_type": "code",
   "execution_count": 10,
   "metadata": {
    "_uuid": "b5edf794d1f62bea4c40f72aa79ba9b85b319df9"
   },
   "outputs": [],
   "source": [
    "X=new_data.iloc[:,:7]\n",
    "y=new_data[\"Chance of Admit \"]"
   ]
  },
  {
   "cell_type": "code",
   "execution_count": 11,
   "metadata": {
    "_uuid": "b41f9e1cab6491bfd1900f1264e2afd0abd4285a"
   },
   "outputs": [
    {
     "name": "stdout",
     "output_type": "stream",
     "text": [
      "(500, 7)\n",
      "(500,)\n"
     ]
    },
    {
     "data": {
      "text/html": [
       "<div>\n",
       "<style scoped>\n",
       "    .dataframe tbody tr th:only-of-type {\n",
       "        vertical-align: middle;\n",
       "    }\n",
       "\n",
       "    .dataframe tbody tr th {\n",
       "        vertical-align: top;\n",
       "    }\n",
       "\n",
       "    .dataframe thead th {\n",
       "        text-align: right;\n",
       "    }\n",
       "</style>\n",
       "<table border=\"1\" class=\"dataframe\">\n",
       "  <thead>\n",
       "    <tr style=\"text-align: right;\">\n",
       "      <th></th>\n",
       "      <th>GRE Score</th>\n",
       "      <th>TOEFL Score</th>\n",
       "      <th>University Rating</th>\n",
       "      <th>SOP</th>\n",
       "      <th>LOR</th>\n",
       "      <th>CGPA</th>\n",
       "      <th>Research</th>\n",
       "    </tr>\n",
       "  </thead>\n",
       "  <tbody>\n",
       "    <tr>\n",
       "      <th>0</th>\n",
       "      <td>337</td>\n",
       "      <td>118</td>\n",
       "      <td>4</td>\n",
       "      <td>4.5</td>\n",
       "      <td>4.5</td>\n",
       "      <td>9.65</td>\n",
       "      <td>1</td>\n",
       "    </tr>\n",
       "    <tr>\n",
       "      <th>1</th>\n",
       "      <td>324</td>\n",
       "      <td>107</td>\n",
       "      <td>4</td>\n",
       "      <td>4.0</td>\n",
       "      <td>4.5</td>\n",
       "      <td>8.87</td>\n",
       "      <td>1</td>\n",
       "    </tr>\n",
       "    <tr>\n",
       "      <th>2</th>\n",
       "      <td>316</td>\n",
       "      <td>104</td>\n",
       "      <td>3</td>\n",
       "      <td>3.0</td>\n",
       "      <td>3.5</td>\n",
       "      <td>8.00</td>\n",
       "      <td>1</td>\n",
       "    </tr>\n",
       "    <tr>\n",
       "      <th>3</th>\n",
       "      <td>322</td>\n",
       "      <td>110</td>\n",
       "      <td>3</td>\n",
       "      <td>3.5</td>\n",
       "      <td>2.5</td>\n",
       "      <td>8.67</td>\n",
       "      <td>1</td>\n",
       "    </tr>\n",
       "    <tr>\n",
       "      <th>4</th>\n",
       "      <td>314</td>\n",
       "      <td>103</td>\n",
       "      <td>2</td>\n",
       "      <td>2.0</td>\n",
       "      <td>3.0</td>\n",
       "      <td>8.21</td>\n",
       "      <td>0</td>\n",
       "    </tr>\n",
       "  </tbody>\n",
       "</table>\n",
       "</div>"
      ],
      "text/plain": [
       "   GRE Score  TOEFL Score  University Rating    ...     LOR   CGPA  Research\n",
       "0        337          118                  4    ...      4.5  9.65         1\n",
       "1        324          107                  4    ...      4.5  8.87         1\n",
       "2        316          104                  3    ...      3.5  8.00         1\n",
       "3        322          110                  3    ...      2.5  8.67         1\n",
       "4        314          103                  2    ...      3.0  8.21         0\n",
       "\n",
       "[5 rows x 7 columns]"
      ]
     },
     "execution_count": 11,
     "metadata": {},
     "output_type": "execute_result"
    }
   ],
   "source": [
    "print(X.shape)\n",
    "print(y.shape)\n",
    "X.head()"
   ]
  },
  {
   "cell_type": "markdown",
   "metadata": {
    "_uuid": "da6758f25f78aa5a96d2cfd9f17de6a0555862a0"
   },
   "source": [
    "**<font size=\"4\">Splitting into Test and Training Sets</font>**"
   ]
  },
  {
   "cell_type": "code",
   "execution_count": 12,
   "metadata": {
    "_uuid": "0e83fa781bcf0475719e020ab9b762e63f013341"
   },
   "outputs": [],
   "source": [
    "from sklearn.model_selection import train_test_split\n",
    "X_train,X_test,y_train,y_test=train_test_split(X,y,test_size=0.2,random_state=50)"
   ]
  },
  {
   "cell_type": "markdown",
   "metadata": {
    "_uuid": "1ae560d76d3d4d75a022a467e556b5fe04a76542"
   },
   "source": [
    "**<font size=\"4\">Importing and Fitting Linear Regression Model</font>**"
   ]
  },
  {
   "cell_type": "code",
   "execution_count": 13,
   "metadata": {
    "_uuid": "fcee568fb60bd77b1b08ec242df6187765083055"
   },
   "outputs": [
    {
     "data": {
      "text/plain": [
       "array([0.62858489, 0.5630453 , 0.62610849, 0.52278247, 0.50451666,\n",
       "       0.76156908, 0.90718643, 0.6458427 , 0.5415052 , 0.55657926,\n",
       "       0.96425939, 0.93686676, 0.78819729, 0.74752677, 0.77994022,\n",
       "       0.65097779, 0.77492475, 0.89655977, 0.66998219, 0.7928963 ,\n",
       "       0.67387898, 0.65227253, 0.68469348, 0.60918057, 0.65299459,\n",
       "       0.7319318 , 0.7324281 , 0.84755228, 0.68454267, 0.61497989,\n",
       "       0.99610597, 0.68451526, 0.86773922, 0.8851996 , 0.55217387,\n",
       "       0.72482522, 0.9660184 , 0.73846807, 0.96128332, 0.47471084,\n",
       "       0.95160397, 0.83413252, 0.69629798, 0.72724642, 0.80494755,\n",
       "       0.66388272, 0.74984219, 0.8369197 , 0.52067787, 0.83186697,\n",
       "       0.83943883, 0.81875093, 0.58809134, 0.66652365, 0.56024635,\n",
       "       0.79175916, 0.75478871, 0.97239619, 0.43578097, 0.58490642,\n",
       "       0.62547018, 0.96412368, 0.82489705, 0.88263358, 0.63923411,\n",
       "       0.64090726, 0.7174835 , 0.71048489, 0.56912616, 0.93739847,\n",
       "       0.9005515 , 0.72556868, 0.88482532, 0.7595775 , 0.66992726,\n",
       "       0.74146053, 0.48676416, 0.75690904, 0.85052356, 0.50132096,\n",
       "       0.92971167, 0.67403161, 0.6636211 , 0.69955928, 0.72056122,\n",
       "       0.75919814, 0.65180399, 0.96532185, 0.70593879, 0.90283934,\n",
       "       0.91317981, 0.60112217, 0.65271066, 0.95506407, 0.84952155,\n",
       "       0.79801842, 0.65473715, 0.78724765, 0.65840476, 0.79778498])"
      ]
     },
     "execution_count": 13,
     "metadata": {},
     "output_type": "execute_result"
    }
   ],
   "source": [
    "from sklearn.linear_model import LinearRegression\n",
    "#Linear Regression\n",
    "regressor=LinearRegression()\n",
    "regressor.fit(X_train,y_train)\n",
    "y_pred=regressor.predict(X_test)\n",
    "y_pred"
   ]
  },
  {
   "cell_type": "markdown",
   "metadata": {
    "_uuid": "9fb7c796917254ca7e3a2bf317e276fb38e5facf"
   },
   "source": [
    "**<font size=\"4\">Checking Prediction Values</font>**"
   ]
  },
  {
   "cell_type": "code",
   "execution_count": 14,
   "metadata": {
    "_uuid": "e4dd190fe4eb51f331cfc9a876d7d134b83e245d"
   },
   "outputs": [
    {
     "name": "stdout",
     "output_type": "stream",
     "text": [
      "R2 score  0.82063139597419\n",
      "mean_absolute_error  0.04040078799417789\n"
     ]
    }
   ],
   "source": [
    "from sklearn.metrics import mean_absolute_error,r2_score\n",
    "print(\"R2 score \",r2_score(y_pred,y_test))\n",
    "print(\"mean_absolute_error \",mean_absolute_error(y_pred,y_test))"
   ]
  },
  {
   "cell_type": "markdown",
   "metadata": {
    "_uuid": "69c8e843b8425e1b65bb49d9d9d92dc3059e759b"
   },
   "source": [
    "**<font size=\"4\">This Notebook will be updated soon, as we will walk through different algorithms of Regression on it.</font>**<br>\n",
    "    <font size=\"4\">Also one can FORK this notebook for further algorithms implementation.<br>\n",
    "    Happy Learning :)\n",
    "</font>"
   ]
  }
 ],
 "metadata": {
  "kernelspec": {
   "display_name": "Python 3",
   "language": "python",
   "name": "python3"
  },
  "language_info": {
   "codemirror_mode": {
    "name": "ipython",
    "version": 3
   },
   "file_extension": ".py",
   "mimetype": "text/x-python",
   "name": "python",
   "nbconvert_exporter": "python",
   "pygments_lexer": "ipython3",
   "version": "3.6.6"
  }
 },
 "nbformat": 4,
 "nbformat_minor": 1
}
